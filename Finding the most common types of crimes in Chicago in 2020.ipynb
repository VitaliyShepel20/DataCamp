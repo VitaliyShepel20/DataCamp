{
 "cells": [
  {
   "cell_type": "markdown",
   "id": "01e0f255",
   "metadata": {},
   "source": [
    "# Finding the most common types of crimes in Chicago in 2020\n",
    "Build a dictionary where key is a crime type and a value is a count from DataFrane"
   ]
  },
  {
   "cell_type": "code",
   "execution_count": 9,
   "id": "4c9e93bc",
   "metadata": {},
   "outputs": [
    {
     "name": "stdout",
     "output_type": "stream",
     "text": [
      "{'THEFT': 41215, 'MOTOR VEHICLE THEFT': 9945, 'ASSAULT': 18247, 'DECEPTIVE PRACTICE': 17745, 'NARCOTICS': 7456, 'CRIMINAL DAMAGE': 24862, 'ROBBERY': 7854, 'BATTERY': 41482, 'OTHER OFFENSE': 12548, 'BURGLARY': 8741, 'INTERFERENCE WITH PUBLIC OFFICER': 654, 'SEX OFFENSE': 930, 'WEAPONS VIOLATION': 8429, 'OFFENSE INVOLVING CHILDREN': 1898, 'STALKING': 200, 'PUBLIC PEACE VIOLATION': 1270, 'ARSON': 585, 'KIDNAPPING': 120, 'CRIMINAL TRESPASS': 4173, 'INTIMIDATION': 160, 'CRIMINAL SEXUAL ASSAULT': 1119, 'CONCEALED CARRY LICENSE VIOLATION': 148, 'HOMICIDE': 789, 'LIQUOR LAW VIOLATION': 143, 'GAMBLING': 25, 'OBSCENITY': 52, 'PROSTITUTION': 277, 'PUBLIC INDECENCY': 9, 'HUMAN TRAFFICKING': 5, 'OTHER NARCOTIC VIOLATION': 6, 'CRIM SEXUAL ASSAULT': 75, 'NON-CRIMINAL': 1, 'RITUALISM': 1}\n"
     ]
    }
   ],
   "source": [
    "import pandas as pd\n",
    "#creat DataFrame from Crimes_2020\n",
    "\n",
    "df = pd.read_csv('C://Users//Vitaliy//Downloads//Vitaliy//Crimes_-_2020.csv')\n",
    "\n",
    "#initialize the empty dictionary\n",
    "Primary_Type_count = {}\n",
    "\n",
    "#extract column 'Primery Type' from df\n",
    "crime_type = df['Primary Type']\n",
    "\n",
    "#loop over crime_type\n",
    "for i in crime_type:\n",
    "    \n",
    "    #if crime_type not in the dictionary Primary_Type_count, add 1\n",
    "    if i in Primary_Type_count.keys():\n",
    "        Primary_Type_count[i]+=1\n",
    "        \n",
    "    #else add the crime type to Primary_Type_count\n",
    "    else:\n",
    "        Primary_Type_count[i] = 1\n",
    "        \n",
    "print(Primary_Type_count)  \n",
    "\n"
   ]
  },
  {
   "cell_type": "code",
   "execution_count": 7,
   "id": "71ce34db",
   "metadata": {},
   "outputs": [
    {
     "data": {
      "text/plain": [
       "0                  THEFT\n",
       "1    MOTOR VEHICLE THEFT\n",
       "2                ASSAULT\n",
       "3     DECEPTIVE PRACTICE\n",
       "4              NARCOTICS\n",
       "Name: Primary Type, dtype: object"
      ]
     },
     "execution_count": 7,
     "metadata": {},
     "output_type": "execute_result"
    }
   ],
   "source": [
    "df.head()\n",
    "df['Primary Type'][:5]"
   ]
  }
 ],
 "metadata": {
  "kernelspec": {
   "display_name": "Python 3",
   "language": "python",
   "name": "python3"
  },
  "language_info": {
   "codemirror_mode": {
    "name": "ipython",
    "version": 3
   },
   "file_extension": ".py",
   "mimetype": "text/x-python",
   "name": "python",
   "nbconvert_exporter": "python",
   "pygments_lexer": "ipython3",
   "version": "3.8.8"
  }
 },
 "nbformat": 4,
 "nbformat_minor": 5
}
