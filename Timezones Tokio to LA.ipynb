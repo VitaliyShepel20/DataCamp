{
 "cells": [
  {
   "cell_type": "markdown",
   "id": "4dec3dfa",
   "metadata": {},
   "source": [
    "# Timezones Tokio to LA"
   ]
  },
  {
   "cell_type": "code",
   "execution_count": 8,
   "id": "7911619a",
   "metadata": {},
   "outputs": [
    {
     "name": "stdout",
     "output_type": "stream",
     "text": [
      "Requirement already satisfied: pendulum in c:\\users\\vitaliy\\anaconda_springboard\\anaconda3\\lib\\site-packages (2.1.2)\n",
      "Requirement already satisfied: python-dateutil<3.0,>=2.6 in c:\\users\\vitaliy\\anaconda_springboard\\anaconda3\\lib\\site-packages (from pendulum) (2.8.1)\n",
      "Requirement already satisfied: pytzdata>=2020.1 in c:\\users\\vitaliy\\anaconda_springboard\\anaconda3\\lib\\site-packages (from pendulum) (2020.1)\n",
      "Requirement already satisfied: six>=1.5 in c:\\users\\vitaliy\\anaconda_springboard\\anaconda3\\lib\\site-packages (from python-dateutil<3.0,>=2.6->pendulum) (1.15.0)\n",
      "Note: you may need to restart the kernel to use updated packages.\n"
     ]
    }
   ],
   "source": [
    "pip install pendulum\n"
   ]
  },
  {
   "cell_type": "code",
   "execution_count": 5,
   "id": "cc8eac8e",
   "metadata": {},
   "outputs": [
    {
     "name": "stdout",
     "output_type": "stream",
     "text": [
      "2021-08-19T07:38:35.156261-07:00\n"
     ]
    }
   ],
   "source": [
    "# Import the pendulum module\n",
    "import pendulum\n",
    "from pendulum import DateTime as Pendulum\n",
    "\n",
    "\n",
    "# Create a now datetime for Tokyo: tokyo_dt\n",
    "tokyo_dt = pendulum.now('Asia/Tokyo')\n",
    "\n",
    "# Covert the tokyo_dt to Los Angeles: la_dt\n",
    "la_dt = tokyo_dt.in_timezone(\"America/Los_Angeles\")\n",
    "\n",
    "# Print the ISO 8601 string of la_dt\n",
    "print(la_dt.to_iso8601_string())"
   ]
  }
 ],
 "metadata": {
  "kernelspec": {
   "display_name": "Python 3",
   "language": "python",
   "name": "python3"
  },
  "language_info": {
   "codemirror_mode": {
    "name": "ipython",
    "version": 3
   },
   "file_extension": ".py",
   "mimetype": "text/x-python",
   "name": "python",
   "nbconvert_exporter": "python",
   "pygments_lexer": "ipython3",
   "version": "3.8.8"
  }
 },
 "nbformat": 4,
 "nbformat_minor": 5
}
