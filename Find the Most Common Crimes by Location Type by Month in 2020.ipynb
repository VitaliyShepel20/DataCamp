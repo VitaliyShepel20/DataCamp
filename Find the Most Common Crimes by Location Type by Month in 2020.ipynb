{
 "cells": [
  {
   "cell_type": "markdown",
   "id": "d239b6c0",
   "metadata": {},
   "source": [
    "# Find the Most Common Crimes by Location Type by Month in 2020\n",
    "Using csv, Counter and defaultdict from collectins and datetime from Crimes_2020.csv data (crimes in Chicago)"
   ]
  },
  {
   "cell_type": "code",
   "execution_count": 2,
   "id": "6816305c",
   "metadata": {},
   "outputs": [
    {
     "name": "stdout",
     "output_type": "stream",
     "text": [
      "3\n",
      "[('STREET', 3729), ('RESIDENCE', 2943), ('APARTMENT', 2922)]\n",
      "2\n",
      "[('STREET', 3900), ('RESIDENCE', 2949), ('APARTMENT', 2714)]\n",
      "12\n",
      "[('RESIDENCE', 3906), ('STREET', 3790), ('APARTMENT', 3390)]\n",
      "11\n",
      "[('STREET', 4106), ('RESIDENCE', 3491), ('APARTMENT', 3048)]\n",
      "5\n",
      "[('STREET', 4080), ('APARTMENT', 2966), ('RESIDENCE', 2888)]\n",
      "6\n",
      "[('STREET', 4380), ('RESIDENCE', 3184), ('APARTMENT', 2993)]\n",
      "8\n",
      "[('STREET', 5113), ('RESIDENCE', 3282), ('APARTMENT', 3041)]\n",
      "7\n",
      "[('STREET', 4862), ('RESIDENCE', 3513), ('APARTMENT', 3222)]\n",
      "1\n",
      "[('STREET', 4108), ('RESIDENCE', 3438), ('APARTMENT', 3033)]\n",
      "4\n",
      "[('STREET', 2874), ('APARTMENT', 2755), ('RESIDENCE', 2457)]\n",
      "10\n",
      "[('STREET', 4774), ('RESIDENCE', 3489), ('APARTMENT', 3092)]\n",
      "9\n",
      "[('STREET', 4736), ('RESIDENCE', 3046), ('APARTMENT', 2732)]\n"
     ]
    }
   ],
   "source": [
    "# Import necessary modules\n",
    "from collections import defaultdict\n",
    "from datetime import datetime\n",
    "import csv\n",
    "\n",
    "# Create the file object: csvfile\n",
    "csvfile = open('C://Users//Vitaliy//Downloads//Vitaliy//Crimes_-_2020.csv', 'r')\n",
    "\n",
    "# Create an empty list: crime_data\n",
    "crime_data = []\n",
    "\n",
    "# Loop over a csv reader on the file object\n",
    "for row in csv.reader(csvfile):\n",
    "    \n",
    "    # Append the date, type of crime, location description, and arrest\n",
    "    crime_data.append(row)\n",
    "    \n",
    "    \n",
    "# Remove the first element from crime_data\n",
    "crime_data.pop(0)\n",
    "\n",
    "\n",
    "# Create a dictionary that defaults to a list: locations_by_month\n",
    "locations_by_month = defaultdict(list)\n",
    "\n",
    "# Loop over the crime_data list\n",
    "for row in crime_data:\n",
    "    # Convert the first element to a date object\n",
    "    date = datetime.strptime(row[2], '%m/%d/%Y %I:%M:%S %p')\n",
    "    \n",
    "    # If the year is 2020 \n",
    "    if date.year == 2020:\n",
    "        # Set the dictionary key to the month and append the location (fifth element) to the values list\n",
    "        locations_by_month[date.month].append(row[7])\n",
    "    \n",
    "# Import Counter from collections\n",
    "from collections import Counter\n",
    "\n",
    "# Loop over the items from locations_by_month using tuple expansion of the month and locations\n",
    "for month, locations in locations_by_month.items():\n",
    "    # Make a Counter of the locations\n",
    "    location_count = Counter(locations)\n",
    "    # Print the month \n",
    "    print(month)\n",
    "    # Print the most common location\n",
    "    print(location_count.most_common(3))"
   ]
  }
 ],
 "metadata": {
  "kernelspec": {
   "display_name": "Python 3",
   "language": "python",
   "name": "python3"
  },
  "language_info": {
   "codemirror_mode": {
    "name": "ipython",
    "version": 3
   },
   "file_extension": ".py",
   "mimetype": "text/x-python",
   "name": "python",
   "nbconvert_exporter": "python",
   "pygments_lexer": "ipython3",
   "version": "3.8.8"
  }
 },
 "nbformat": 4,
 "nbformat_minor": 5
}
