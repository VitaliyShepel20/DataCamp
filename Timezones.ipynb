{
 "cells": [
  {
   "cell_type": "markdown",
   "id": "44b9d961",
   "metadata": {},
   "source": [
    "# Timezones\n",
    "In order to work effectively with other timezones, you can use the pytz library. To use timezones, you need to import the timezone object from the pytz module. Then you can use the timezone constructor and pass it a name of a timezone, such as CT = timezone('US/Central'). You can get a full list of timezone names at Wikipedia. In Python 3, you can make a datetime object \"aware\" by passing a timezone as the tzinfo keyword argument to the .replace() method on a datetime instance."
   ]
  },
  {
   "cell_type": "code",
   "execution_count": 11,
   "id": "45dc279a",
   "metadata": {},
   "outputs": [
    {
     "name": "stdout",
     "output_type": "stream",
     "text": [
      "Chicago: 2001-01-01 09:11:00-05:51, NY: 2001-01-01 10:02:00-05:00, Ridership: 126455\n",
      "Chicago: 2001-01-02 14:09:00-05:51, NY: 2001-01-02 15:00:00-05:00, Ridership: 501952\n",
      "Chicago: 2001-01-03 05:04:00-05:51, NY: 2001-01-03 05:55:00-05:00, Ridership: 536432\n",
      "Chicago: 2001-01-04 21:56:00-05:51, NY: 2001-01-04 22:47:00-05:00, Ridership: 550011\n",
      "Chicago: 2001-01-05 06:09:00-05:51, NY: 2001-01-05 07:00:00-05:00, Ridership: 557917\n",
      "Chicago: 2001-01-06 10:38:00-05:51, NY: 2001-01-06 11:29:00-05:00, Ridership: 255356\n",
      "Chicago: 2001-01-07 19:58:00-05:51, NY: 2001-01-07 20:49:00-05:00, Ridership: 169825\n",
      "Chicago: 2001-01-08 06:50:00-05:51, NY: 2001-01-08 07:41:00-05:00, Ridership: 590706\n",
      "Chicago: 2001-01-09 10:46:00-05:51, NY: 2001-01-09 11:37:00-05:00, Ridership: 599905\n"
     ]
    }
   ],
   "source": [
    "from datetime import datetime\n",
    "from pytz import timezone\n",
    "daily_summaries= [(datetime(2001, 1, 1, 9, 11), '126455'), (datetime(2001, 1, 2, 14, 9), '501952'), (datetime(2001, 1, 3, 5, 4), '536432'), (datetime(2001, 1, 4, 21, 56), '550011'), (datetime(2001, 1, 5, 6, 9), '557917'), (datetime(2001, 1, 6, 10, 38), '255356'), (datetime(2001, 1, 7, 19, 58), '169825'), (datetime(2001, 1, 8, 6, 50), '590706'), (datetime(2001, 1, 9, 10, 46), '599905')]\n",
    "# Create a Timezone object for Chicago\n",
    "chicago_usa_tz = timezone('US/Central')\n",
    "\n",
    "# Create a Timezone object for New York\n",
    "ny_usa_tz = timezone('US/Eastern')\n",
    "\n",
    "# Iterate over the daily_summaries list\n",
    "for orig_dt, ridership in daily_summaries:\n",
    "\n",
    "    # Make the orig_dt timezone \"aware\" for Chicago\n",
    "    chicago_dt = orig_dt.replace(tzinfo= chicago_usa_tz)\n",
    "    \n",
    "    # Convert chicago_dt to the New York Timezone\n",
    "    ny_dt = chicago_dt.astimezone(ny_usa_tz)\n",
    "    \n",
    "    # Print the chicago_dt, ny_dt, and ridership\n",
    "    print('Chicago: %s, NY: %s, Ridership: %s' % (chicago_dt, ny_dt, ridership))"
   ]
  }
 ],
 "metadata": {
  "kernelspec": {
   "display_name": "Python 3",
   "language": "python",
   "name": "python3"
  },
  "language_info": {
   "codemirror_mode": {
    "name": "ipython",
    "version": 3
   },
   "file_extension": ".py",
   "mimetype": "text/x-python",
   "name": "python",
   "nbconvert_exporter": "python",
   "pygments_lexer": "ipython3",
   "version": "3.8.8"
  }
 },
 "nbformat": 4,
 "nbformat_minor": 5
}
