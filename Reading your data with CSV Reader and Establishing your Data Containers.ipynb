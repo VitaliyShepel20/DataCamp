{
 "cells": [
  {
   "cell_type": "markdown",
   "id": "542624a9",
   "metadata": {},
   "source": [
    "# Reading your data with CSV Reader and Establishing your Data Containers\n",
    "\n",
    "\n",
    "you'll focus only 4 columns: The date, type of crime, location, and whether or not the crime resulted in an arrest.\n",
    "\n",
    "Your job in this exercise is to use a CSV Reader to load up a list to hold the data you're going to analyze."
   ]
  },
  {
   "cell_type": "code",
   "execution_count": 5,
   "id": "8799d9ce",
   "metadata": {},
   "outputs": [
    {
     "name": "stdout",
     "output_type": "stream",
     "text": [
      "[('03/17/2020 09:30:00 PM', 'THEFT', 'STREET', 'false'), ('03/18/2020 02:03:00 AM', 'MOTOR VEHICLE THEFT', 'APARTMENT', 'false'), ('03/18/2020 08:50:00 AM', 'ASSAULT', 'RESIDENCE', 'false'), ('03/18/2020 01:00:00 PM', 'DECEPTIVE PRACTICE', 'OTHER (SPECIFY)', 'false'), ('03/18/2020 05:35:00 PM', 'NARCOTICS', 'SIDEWALK', 'true'), ('03/16/2020 12:05:00 AM', 'THEFT', 'STREET', 'false'), ('03/18/2020 11:15:00 PM', 'CRIMINAL DAMAGE', 'RESIDENCE', 'false'), ('03/18/2020 06:00:00 PM', 'ROBBERY', 'STREET', 'false'), ('03/18/2020 02:04:00 PM', 'BATTERY', 'RESIDENCE', 'false'), ('03/18/2020 09:27:00 PM', 'OTHER OFFENSE', 'SIDEWALK', 'false')]\n"
     ]
    }
   ],
   "source": [
    "# Import the csv module\n",
    "import csv\n",
    "\n",
    "# Create the file object: csvfile\n",
    "csvfile = open('C://Users//Vitaliy//Downloads//Vitaliy//Crimes_-_2020.csv', 'r')\n",
    "\n",
    "# Create an empty list: crime_data\n",
    "crime_data = []\n",
    "\n",
    "# Loop over a csv reader on the file object\n",
    "for row in csv.reader(csvfile):\n",
    "    \n",
    "    # Append the date, type of crime, location description, and arrest\n",
    "    crime_data.append((row[2], row[5], row[7], row[8]))\n",
    "    \n",
    "    \n",
    "# Remove the first element from crime_data\n",
    "crime_data.pop(0)\n",
    "\n",
    "# Print the first 10 records\n",
    "print(crime_data[:10])"
   ]
  },
  {
   "cell_type": "code",
   "execution_count": 8,
   "id": "1470c86c",
   "metadata": {},
   "outputs": [
    {
     "name": "stdout",
     "output_type": "stream",
     "text": [
      "['12455233', 'JE340355', '10/12/2020 01:00:00 AM', '016XX S MICHIGAN AVE', '0460', 'BATTERY', 'SIMPLE', 'APARTMENT', 'false', 'false', '0131', '001', '3', '33', '08B', '', '', '2020', '08/18/2021 04:55:49 PM', '', '', '']\n"
     ]
    }
   ],
   "source": [
    "print(row)"
   ]
  }
 ],
 "metadata": {
  "kernelspec": {
   "display_name": "Python 3",
   "language": "python",
   "name": "python3"
  },
  "language_info": {
   "codemirror_mode": {
    "name": "ipython",
    "version": 3
   },
   "file_extension": ".py",
   "mimetype": "text/x-python",
   "name": "python",
   "nbconvert_exporter": "python",
   "pygments_lexer": "ipython3",
   "version": "3.8.8"
  }
 },
 "nbformat": 4,
 "nbformat_minor": 5
}
